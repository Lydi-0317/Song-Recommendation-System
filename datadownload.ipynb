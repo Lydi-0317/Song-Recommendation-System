{
 "cells": [
  {
   "cell_type": "code",
   "execution_count": 2,
   "id": "748d8374-6d8e-4ecc-9fd2-a277cd6df7eb",
   "metadata": {},
   "outputs": [
    {
     "name": "stderr",
     "output_type": "stream",
     "text": [
      "The syntax of the command is incorrect.\n"
     ]
    },
    {
     "data": {
      "text/plain": [
       "'C:\\\\Users\\\\Lydia/.kaggle/kaggle.json'"
      ]
     },
     "execution_count": 2,
     "metadata": {},
     "output_type": "execute_result"
    }
   ],
   "source": [
    "import shutil\n",
    "import os\n",
    "!mkdir -p ~/.kaggle\n",
    "shutil.copy(\"kaggle.json\", os.path.expanduser(\"~/.kaggle/kaggle.json\"))"
   ]
  },
  {
   "cell_type": "code",
   "execution_count": 3,
   "id": "ec67f30d-4bee-4048-9c81-25527926dea4",
   "metadata": {},
   "outputs": [
    {
     "name": "stderr",
     "output_type": "stream",
     "text": [
      "\n",
      "[notice] A new release of pip is available: 24.0 -> 25.1.1\n",
      "[notice] To update, run: python.exe -m pip install --upgrade pip\n"
     ]
    },
    {
     "name": "stdout",
     "output_type": "stream",
     "text": [
      "Requirement already satisfied: kaggle in c:\\users\\lydia\\appdata\\local\\programs\\python\\python312\\lib\\site-packages (1.6.17)\n",
      "Requirement already satisfied: six>=1.10 in c:\\users\\lydia\\appdata\\local\\programs\\python\\python312\\lib\\site-packages (from kaggle) (1.16.0)\n",
      "Requirement already satisfied: certifi>=2023.7.22 in c:\\users\\lydia\\appdata\\local\\programs\\python\\python312\\lib\\site-packages (from kaggle) (2024.6.2)\n",
      "Requirement already satisfied: python-dateutil in c:\\users\\lydia\\appdata\\local\\programs\\python\\python312\\lib\\site-packages (from kaggle) (2.9.0.post0)\n",
      "Requirement already satisfied: requests in c:\\users\\lydia\\appdata\\local\\programs\\python\\python312\\lib\\site-packages (from kaggle) (2.32.3)\n",
      "Requirement already satisfied: tqdm in c:\\users\\lydia\\appdata\\local\\programs\\python\\python312\\lib\\site-packages (from kaggle) (4.66.2)\n",
      "Requirement already satisfied: python-slugify in c:\\users\\lydia\\appdata\\local\\programs\\python\\python312\\lib\\site-packages (from kaggle) (8.0.4)\n",
      "Requirement already satisfied: urllib3 in c:\\users\\lydia\\appdata\\local\\programs\\python\\python312\\lib\\site-packages (from kaggle) (2.2.2)\n",
      "Requirement already satisfied: bleach in c:\\users\\lydia\\appdata\\local\\programs\\python\\python312\\lib\\site-packages (from kaggle) (6.1.0)\n",
      "Requirement already satisfied: webencodings in c:\\users\\lydia\\appdata\\local\\programs\\python\\python312\\lib\\site-packages (from bleach->kaggle) (0.5.1)\n",
      "Requirement already satisfied: text-unidecode>=1.3 in c:\\users\\lydia\\appdata\\local\\programs\\python\\python312\\lib\\site-packages (from python-slugify->kaggle) (1.3)\n",
      "Requirement already satisfied: charset-normalizer<4,>=2 in c:\\users\\lydia\\appdata\\local\\programs\\python\\python312\\lib\\site-packages (from requests->kaggle) (3.3.2)\n",
      "Requirement already satisfied: idna<4,>=2.5 in c:\\users\\lydia\\appdata\\local\\programs\\python\\python312\\lib\\site-packages (from requests->kaggle) (2.10)\n",
      "Requirement already satisfied: colorama in c:\\users\\lydia\\appdata\\local\\programs\\python\\python312\\lib\\site-packages (from tqdm->kaggle) (0.4.6)\n"
     ]
    }
   ],
   "source": [
    "!pip install kaggle"
   ]
  },
  {
   "cell_type": "code",
   "execution_count": 5,
   "id": "060ea0ae-00fb-44a4-9308-398afc786f81",
   "metadata": {},
   "outputs": [
    {
     "name": "stdout",
     "output_type": "stream",
     "text": [
      "Warning: Looks like you're using an outdated API Version, please consider updating (server 1.7.4.2 / client 1.6.17)\n",
      "ref                                                       title                               size  lastUpdated          downloadCount  voteCount  usabilityRating  \n",
      "--------------------------------------------------------  ---------------------------------  -----  -------------------  -------------  ---------  ---------------  \n",
      "dhruvildave/spotify-charts                                Spotify Charts                     945MB  2022-02-09 19:49:08          19753        326  1.0              \n",
      "salvatorerastelli/spotify-and-youtube                     Spotify and Youtube                  9MB  2023-03-20 15:43:25          32062        610  1.0              \n",
      "bricevergnou/spotify-recommendation                       Spotify Recommendation              29KB  2021-07-27 20:06:27          16006        172  1.0              \n",
      "andrewmvd/spotify-playlists                               Spotify Playlists                  183MB  2021-11-15 09:34:14           7422        126  1.0              \n",
      "joebeachcapital/30000-spotify-songs                       30000 Spotify Songs                  3MB  2023-11-01 06:06:43          26734        369  1.0              \n",
      "nelgiriyewithana/top-spotify-songs-2023                   Most Streamed Spotify Songs 2023    47KB  2023-08-26 11:04:57         114366       1894  1.0              \n",
      "ambaliyagati/spotify-dataset-for-playing-around-with-sql  Spotify dataset                    302KB  2024-06-17 10:48:20           6425         81  1.0              \n",
      "leonardopena/top50spotify2019                             Top 50 Spotify Songs - 2019          2KB  2019-08-08 16:39:46          44390        969  1.0              \n",
      "geomack/spotifyclassification                             Spotify Song Attributes             98KB  2017-08-04 21:05:17          36059        417  0.7352941        \n",
      "b'maharshipandya/-spotify-tracks-dataset                    \\xf0\\x9f\\x8e\\xb9 Spotify Tracks Dataset             8MB  2022-10-22 14:40:15          56390        357  1.0              '\n",
      "arnavvvvv/spotify-music                                   Top Spotify Songs                   47KB  2024-03-06 05:20:29          13064        140  1.0              \n",
      "abdulszz/spotify-most-streamed-songs                      Spotify Most Streamed Songs         60KB  2024-09-07 18:23:14          22781        255  1.0              \n",
      "solomonameh/spotify-music-dataset                         Spotify Music Dataset              573KB  2025-01-07 06:51:01           8660        115  0.9411765        \n",
      "nelgiriyewithana/most-streamed-spotify-songs-2024         Most Streamed Spotify Songs 2024   496KB  2024-06-15 18:50:51          36587        525  1.0              \n",
      "mfaaris/spotify-app-reviews-2022                          Spotify App Reviews                  4MB  2022-07-10 17:25:08           8627         94  1.0              \n",
      "sujaykapadnis/spotify-songs                               spotify songs                        3MB  2023-10-17 09:17:20           2273         53  1.0              \n",
      "zeesolver/spotfy                                          Spotify Songs Album                 47KB  2024-05-10 09:21:57           5544         81  1.0              \n",
      "rodolfofigueroa/spotify-12m-songs                         Spotify 1.2M+ Songs                 97MB  2020-12-22 06:44:03           9035        133  0.8235294        \n",
      "thedevastator/spotify-tracks-genre-dataset                Spotify Tracks Genre                 8MB  2023-11-30 04:25:48           6863        100  1.0              \n",
      "zaheenhamidani/ultimate-spotify-tracks-db                 Spotify Tracks DB                   15MB  2019-07-23 04:26:23          37338        319  0.5882353        \n"
     ]
    }
   ],
   "source": [
    "import os\n",
    "os.environ['KAGGLE_CONFIG_DIR'] = os.path.join(os.path.expanduser('~'), '.kaggle')\n",
    "\n",
    "# Let's test it by listing a dataset\n",
    "!kaggle datasets list -s spotify\n"
   ]
  },
  {
   "cell_type": "code",
   "execution_count": 6,
   "id": "53cb27b8-0d32-44b2-ac8b-f795b2d22e4a",
   "metadata": {},
   "outputs": [
    {
     "name": "stdout",
     "output_type": "stream",
     "text": [
      "Warning: Looks like you're using an outdated API Version, please consider updating (server 1.7.4.2 / client 1.6.17)\n",
      "Dataset URL: https://www.kaggle.com/datasets/ambaliyagati/spotify-dataset-for-playing-around-with-sql\n",
      "License(s): MIT\n",
      "Downloading spotify-dataset-for-playing-around-with-sql.zip to C:\\Users\\Lydia\\Projects\\song-recommender\n",
      "\n"
     ]
    },
    {
     "name": "stderr",
     "output_type": "stream",
     "text": [
      "\n",
      "  0%|          | 0.00/302k [00:00<?, ?B/s]\n",
      "100%|##########| 302k/302k [00:00<00:00, 320kB/s]\n",
      "100%|##########| 302k/302k [00:00<00:00, 320kB/s]\n"
     ]
    }
   ],
   "source": [
    "!kaggle datasets download -d ambaliyagati/spotify-dataset-for-playing-around-with-sql\n"
   ]
  },
  {
   "cell_type": "code",
   "execution_count": 7,
   "id": "1635f763-2bf7-49de-a83f-e335913e4f3e",
   "metadata": {},
   "outputs": [],
   "source": [
    "import zipfile\n",
    "import os\n",
    "\n",
    "# Unzip the file\n",
    "with zipfile.ZipFile('spotify-dataset-for-playing-around-with-sql.zip', 'r') as zip_ref:\n",
    "    zip_ref.extractall('data')\n"
   ]
  },
  {
   "cell_type": "code",
   "execution_count": 8,
   "id": "766c66bf-b68b-4dfa-ae05-c480a202940b",
   "metadata": {},
   "outputs": [
    {
     "data": {
      "text/html": [
       "<div>\n",
       "<style scoped>\n",
       "    .dataframe tbody tr th:only-of-type {\n",
       "        vertical-align: middle;\n",
       "    }\n",
       "\n",
       "    .dataframe tbody tr th {\n",
       "        vertical-align: top;\n",
       "    }\n",
       "\n",
       "    .dataframe thead th {\n",
       "        text-align: right;\n",
       "    }\n",
       "</style>\n",
       "<table border=\"1\" class=\"dataframe\">\n",
       "  <thead>\n",
       "    <tr style=\"text-align: right;\">\n",
       "      <th></th>\n",
       "      <th>id</th>\n",
       "      <th>name</th>\n",
       "      <th>genre</th>\n",
       "      <th>artists</th>\n",
       "      <th>album</th>\n",
       "      <th>popularity</th>\n",
       "      <th>duration_ms</th>\n",
       "      <th>explicit</th>\n",
       "    </tr>\n",
       "  </thead>\n",
       "  <tbody>\n",
       "    <tr>\n",
       "      <th>0</th>\n",
       "      <td>7kr3xZk4yb3YSZ4VFtg2Qt</td>\n",
       "      <td>Acoustic</td>\n",
       "      <td>acoustic</td>\n",
       "      <td>Billy Raffoul</td>\n",
       "      <td>1975</td>\n",
       "      <td>58</td>\n",
       "      <td>172199</td>\n",
       "      <td>False</td>\n",
       "    </tr>\n",
       "    <tr>\n",
       "      <th>1</th>\n",
       "      <td>1kJygfS4eoVziBBI93MSYp</td>\n",
       "      <td>Acoustic</td>\n",
       "      <td>acoustic</td>\n",
       "      <td>Billy Raffoul</td>\n",
       "      <td>A Few More Hours at YYZ</td>\n",
       "      <td>57</td>\n",
       "      <td>172202</td>\n",
       "      <td>False</td>\n",
       "    </tr>\n",
       "    <tr>\n",
       "      <th>2</th>\n",
       "      <td>6lynns69p4zTCRxmmiSY1x</td>\n",
       "      <td>Here Comes the Sun - Acoustic</td>\n",
       "      <td>acoustic</td>\n",
       "      <td>Molly Hocking, Bailey Rushlow</td>\n",
       "      <td>Here Comes the Sun (Acoustic)</td>\n",
       "      <td>42</td>\n",
       "      <td>144786</td>\n",
       "      <td>False</td>\n",
       "    </tr>\n",
       "    <tr>\n",
       "      <th>3</th>\n",
       "      <td>1RC9slv335IfLce5vt9KTW</td>\n",
       "      <td>Acoustic #3</td>\n",
       "      <td>acoustic</td>\n",
       "      <td>The Goo Goo Dolls</td>\n",
       "      <td>Dizzy up the Girl</td>\n",
       "      <td>46</td>\n",
       "      <td>116573</td>\n",
       "      <td>False</td>\n",
       "    </tr>\n",
       "    <tr>\n",
       "      <th>4</th>\n",
       "      <td>5o9L8xBuILoVjLECSBi7Vo</td>\n",
       "      <td>My Love Mine All Mine - Acoustic Instrumental</td>\n",
       "      <td>acoustic</td>\n",
       "      <td>Guus Dielissen, Casper Esmann</td>\n",
       "      <td>My Love Mine All Mine (Acoustic Instrumental)</td>\n",
       "      <td>33</td>\n",
       "      <td>133922</td>\n",
       "      <td>False</td>\n",
       "    </tr>\n",
       "  </tbody>\n",
       "</table>\n",
       "</div>"
      ],
      "text/plain": [
       "                       id                                           name  \\\n",
       "0  7kr3xZk4yb3YSZ4VFtg2Qt                                       Acoustic   \n",
       "1  1kJygfS4eoVziBBI93MSYp                                       Acoustic   \n",
       "2  6lynns69p4zTCRxmmiSY1x                  Here Comes the Sun - Acoustic   \n",
       "3  1RC9slv335IfLce5vt9KTW                                    Acoustic #3   \n",
       "4  5o9L8xBuILoVjLECSBi7Vo  My Love Mine All Mine - Acoustic Instrumental   \n",
       "\n",
       "      genre                        artists  \\\n",
       "0  acoustic                  Billy Raffoul   \n",
       "1  acoustic                  Billy Raffoul   \n",
       "2  acoustic  Molly Hocking, Bailey Rushlow   \n",
       "3  acoustic              The Goo Goo Dolls   \n",
       "4  acoustic  Guus Dielissen, Casper Esmann   \n",
       "\n",
       "                                           album  popularity  duration_ms  \\\n",
       "0                                           1975          58       172199   \n",
       "1                        A Few More Hours at YYZ          57       172202   \n",
       "2                  Here Comes the Sun (Acoustic)          42       144786   \n",
       "3                              Dizzy up the Girl          46       116573   \n",
       "4  My Love Mine All Mine (Acoustic Instrumental)          33       133922   \n",
       "\n",
       "   explicit  \n",
       "0     False  \n",
       "1     False  \n",
       "2     False  \n",
       "3     False  \n",
       "4     False  "
      ]
     },
     "execution_count": 8,
     "metadata": {},
     "output_type": "execute_result"
    }
   ],
   "source": [
    "import pandas as pd\n",
    "\n",
    "# Example CSV name – adjust based on actual file\n",
    "df = pd.read_csv('data/spotify_tracks.csv')\n",
    "df.head()\n"
   ]
  },
  {
   "cell_type": "code",
   "execution_count": null,
   "id": "8d0631dd-9c06-435d-bf01-7819c312f5c9",
   "metadata": {},
   "outputs": [],
   "source": []
  }
 ],
 "metadata": {
  "kernelspec": {
   "display_name": "Python 3 (ipykernel)",
   "language": "python",
   "name": "python3"
  },
  "language_info": {
   "codemirror_mode": {
    "name": "ipython",
    "version": 3
   },
   "file_extension": ".py",
   "mimetype": "text/x-python",
   "name": "python",
   "nbconvert_exporter": "python",
   "pygments_lexer": "ipython3",
   "version": "3.12.4"
  }
 },
 "nbformat": 4,
 "nbformat_minor": 5
}
